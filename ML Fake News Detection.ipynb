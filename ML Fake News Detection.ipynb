{
 "cells": [
  {
   "cell_type": "code",
   "id": "initial_id",
   "metadata": {
    "collapsed": true,
    "ExecuteTime": {
     "end_time": "2024-06-23T15:18:04.953726Z",
     "start_time": "2024-06-23T15:18:04.941858Z"
    }
   },
   "source": [
    "import numpy as np\n",
    "import matplotlib.pyplot as plt\n",
    "import pandas as pd\n",
    "import sns\n",
    "from sklearn.linear_model import LogisticRegression\n",
    "from sklearn.neighbors import KNeighborsClassifier\n",
    "from sklearn.model_selection import train_test_split\n",
    "from sklearn.metrics import accuracy_score\n",
    "from sklearn.metrics import classification_report, confusion_matrix\n",
    "import re\n",
    "import string\n",
    "\n",
    "\n"
   ],
   "outputs": [],
   "execution_count": 2
  },
  {
   "metadata": {
    "ExecuteTime": {
     "end_time": "2024-06-23T15:21:59.005484Z",
     "start_time": "2024-06-23T15:21:58.973315Z"
    }
   },
   "cell_type": "code",
   "source": [
    "df_fake = pd.read_csv('ML KNN Overview Fake.txt', header=None)\n",
    "df_real = pd.read_csv('ML KNN Overview Real.txt', header=None)\n",
    "\n",
    "# Đặt tên cột là 'title'\n",
    "df_fake.columns = ['title']\n",
    "df_real.columns = ['title']\n",
    "\n",
    "# Hiển thị 5 hàng đầu tiên của DataFrame\n",
    "print(df_fake.head())\n",
    "print(df_real.head())\n"
   ],
   "id": "96d4ec443c0b589d",
   "outputs": [
    {
     "name": "stdout",
     "output_type": "stream",
     "text": [
      "                                               title\n",
      "0           trump warns of vote flipping on machines\n",
      "1  this election is not about trump its about a g...\n",
      "2  more on trump populism and how it can be contr...\n",
      "3  trump bollywood ad meant to sway indian americ...\n",
      "4  dems could be up on charges for inciting trump...\n",
      "                                               title\n",
      "0  donald trump do you remember the year since he...\n",
      "1  trump defends son over emails as moscow hits back\n",
      "2  donald trump strategist says media wont easily...\n",
      "3  anthony scaramucci who is donald trumps new co...\n",
      "4  donald trumps mobile phone use worries securit...\n"
     ]
    }
   ],
   "execution_count": 3
  },
  {
   "metadata": {},
   "cell_type": "markdown",
   "source": "### Inserting a column \"class\" as target feature",
   "id": "4c5252f524f1a062"
  },
  {
   "metadata": {
    "ExecuteTime": {
     "end_time": "2024-06-23T15:22:31.768905Z",
     "start_time": "2024-06-23T15:22:31.743064Z"
    }
   },
   "cell_type": "code",
   "source": [
    "df_fake['class']=0\n",
    "df_real['class']=1"
   ],
   "id": "59fea1e4cc842a0",
   "outputs": [],
   "execution_count": 4
  },
  {
   "metadata": {
    "ExecuteTime": {
     "end_time": "2024-06-23T15:22:44.945045Z",
     "start_time": "2024-06-23T15:22:44.925106Z"
    }
   },
   "cell_type": "code",
   "source": "df_fake.shape,df_real.shape",
   "id": "a123f92eb3bee61f",
   "outputs": [
    {
     "data": {
      "text/plain": [
       "((1298, 2), (1968, 2))"
      ]
     },
     "execution_count": 5,
     "metadata": {},
     "output_type": "execute_result"
    }
   ],
   "execution_count": 5
  },
  {
   "metadata": {
    "ExecuteTime": {
     "end_time": "2024-06-23T15:24:41.365948Z",
     "start_time": "2024-06-23T15:24:41.344273Z"
    }
   },
   "cell_type": "code",
   "source": [
    "# Additional preprocessing functions\n",
    "def preprocess_text(text):\n",
    "    # Convert text to lowercase\n",
    "    text = text.lower()\n",
    "    # Remove punctuation\n",
    "    text = re.sub(f\"[{re.escape(string.punctuation)}]\", \"\", text)\n",
    "    return text\n",
    "\n",
    "# Apply preprocessing\n",
    "df_fake['title'] = df_fake['title'].apply(preprocess_text)\n",
    "df_real['title'] = df_real['title'].apply(preprocess_text)"
   ],
   "id": "3b9741dfd288b920",
   "outputs": [],
   "execution_count": 6
  },
  {
   "metadata": {
    "ExecuteTime": {
     "end_time": "2024-06-23T15:25:17.685385Z",
     "start_time": "2024-06-23T15:25:17.667127Z"
    }
   },
   "cell_type": "code",
   "source": [
    "# Combine fake and real data\n",
    "df = pd.concat([df_fake, df_real])\n",
    "X = df['title']\n",
    "y = df['class']\n"
   ],
   "id": "375d47d17c9a0e8b",
   "outputs": [],
   "execution_count": 8
  },
  {
   "metadata": {
    "ExecuteTime": {
     "end_time": "2024-06-23T15:25:22.308092Z",
     "start_time": "2024-06-23T15:25:22.284005Z"
    }
   },
   "cell_type": "code",
   "source": "df\n",
   "id": "f63aaaabd90031ff",
   "outputs": [
    {
     "data": {
      "text/plain": [
       "                                                  title  class\n",
       "0              trump warns of vote flipping on machines      0\n",
       "1     this election is not about trump its about a g...      0\n",
       "2     more on trump populism and how it can be contr...      0\n",
       "3     trump bollywood ad meant to sway indian americ...      0\n",
       "4     dems could be up on charges for inciting trump...      0\n",
       "...                                                 ...    ...\n",
       "1963  donald trump tells guam north korean threat a ...      1\n",
       "1964                  abc news quiz trump golden globes      1\n",
       "1965  cancel it trump says new air force one cost ri...      1\n",
       "1966         trump trade policies easier said than done      1\n",
       "1967  trumps voter fraud belief based on studies whi...      1\n",
       "\n",
       "[3266 rows x 2 columns]"
      ],
      "text/html": [
       "<div>\n",
       "<style scoped>\n",
       "    .dataframe tbody tr th:only-of-type {\n",
       "        vertical-align: middle;\n",
       "    }\n",
       "\n",
       "    .dataframe tbody tr th {\n",
       "        vertical-align: top;\n",
       "    }\n",
       "\n",
       "    .dataframe thead th {\n",
       "        text-align: right;\n",
       "    }\n",
       "</style>\n",
       "<table border=\"1\" class=\"dataframe\">\n",
       "  <thead>\n",
       "    <tr style=\"text-align: right;\">\n",
       "      <th></th>\n",
       "      <th>title</th>\n",
       "      <th>class</th>\n",
       "    </tr>\n",
       "  </thead>\n",
       "  <tbody>\n",
       "    <tr>\n",
       "      <th>0</th>\n",
       "      <td>trump warns of vote flipping on machines</td>\n",
       "      <td>0</td>\n",
       "    </tr>\n",
       "    <tr>\n",
       "      <th>1</th>\n",
       "      <td>this election is not about trump its about a g...</td>\n",
       "      <td>0</td>\n",
       "    </tr>\n",
       "    <tr>\n",
       "      <th>2</th>\n",
       "      <td>more on trump populism and how it can be contr...</td>\n",
       "      <td>0</td>\n",
       "    </tr>\n",
       "    <tr>\n",
       "      <th>3</th>\n",
       "      <td>trump bollywood ad meant to sway indian americ...</td>\n",
       "      <td>0</td>\n",
       "    </tr>\n",
       "    <tr>\n",
       "      <th>4</th>\n",
       "      <td>dems could be up on charges for inciting trump...</td>\n",
       "      <td>0</td>\n",
       "    </tr>\n",
       "    <tr>\n",
       "      <th>...</th>\n",
       "      <td>...</td>\n",
       "      <td>...</td>\n",
       "    </tr>\n",
       "    <tr>\n",
       "      <th>1963</th>\n",
       "      <td>donald trump tells guam north korean threat a ...</td>\n",
       "      <td>1</td>\n",
       "    </tr>\n",
       "    <tr>\n",
       "      <th>1964</th>\n",
       "      <td>abc news quiz trump golden globes</td>\n",
       "      <td>1</td>\n",
       "    </tr>\n",
       "    <tr>\n",
       "      <th>1965</th>\n",
       "      <td>cancel it trump says new air force one cost ri...</td>\n",
       "      <td>1</td>\n",
       "    </tr>\n",
       "    <tr>\n",
       "      <th>1966</th>\n",
       "      <td>trump trade policies easier said than done</td>\n",
       "      <td>1</td>\n",
       "    </tr>\n",
       "    <tr>\n",
       "      <th>1967</th>\n",
       "      <td>trumps voter fraud belief based on studies whi...</td>\n",
       "      <td>1</td>\n",
       "    </tr>\n",
       "  </tbody>\n",
       "</table>\n",
       "<p>3266 rows × 2 columns</p>\n",
       "</div>"
      ]
     },
     "execution_count": 9,
     "metadata": {},
     "output_type": "execute_result"
    }
   ],
   "execution_count": 9
  },
  {
   "metadata": {},
   "cell_type": "markdown",
   "source": "## Split the data set",
   "id": "6ae4570cea9a62c8"
  },
  {
   "metadata": {
    "ExecuteTime": {
     "end_time": "2024-06-23T15:25:41.313201Z",
     "start_time": "2024-06-23T15:25:41.303944Z"
    }
   },
   "cell_type": "code",
   "source": [
    "# Split the dataset\n",
    "X_train, X_test, y_train, y_test = train_test_split(X, y, test_size=0.2, random_state=42)\n"
   ],
   "id": "644390b277406c62",
   "outputs": [],
   "execution_count": 11
  },
  {
   "metadata": {
    "ExecuteTime": {
     "end_time": "2024-06-23T15:25:53.124340Z",
     "start_time": "2024-06-23T15:25:53.057908Z"
    }
   },
   "cell_type": "code",
   "source": [
    "from sklearn.feature_extraction.text import TfidfVectorizer\n",
    "\n",
    "# Feature extraction using TF-IDF\n",
    "max_features = 5000  # Limit the number of features\n",
    "vectorizer = TfidfVectorizer(stop_words='english', max_df=0.7, max_features=max_features)\n",
    "X_train_tfidf = vectorizer.fit_transform(X_train)\n",
    "X_test_tfidf = vectorizer.transform(X_test)"
   ],
   "id": "3af19e12c349e85d",
   "outputs": [],
   "execution_count": 13
  },
  {
   "metadata": {
    "ExecuteTime": {
     "end_time": "2024-06-23T15:26:51.530308Z",
     "start_time": "2024-06-23T15:26:51.157870Z"
    }
   },
   "cell_type": "code",
   "source": [
    "import seaborn as sns \n",
    "# Visualize class imbalance before oversampling\n",
    "plt.figure(1, figsize=(17, 6))\n",
    "plt.subplot(1, 2, 1)\n",
    "sns.countplot(x=y_train)\n",
    "plt.title('Class distribution before oversampling')\n",
    "print('Shape of training data before oversampling:', X_train_tfidf.shape, '\\n\\n')\n",
    "\n"
   ],
   "id": "a4d761f21d579946",
   "outputs": [
    {
     "name": "stdout",
     "output_type": "stream",
     "text": [
      "Shape of training data before oversampling: (2612, 4933) \n",
      "\n",
      "\n"
     ]
    },
    {
     "data": {
      "text/plain": [
       "<Figure size 1700x600 with 1 Axes>"
      ],
      "image/png": "[encoded data removed]"
     },
     "metadata": {},
     "output_type": "display_data"
    }
   ],
   "execution_count": 16
  },
  {
   "metadata": {
    "ExecuteTime": {
     "end_time": "2024-06-23T15:27:18.265384Z",
     "start_time": "2024-06-23T15:27:17.776945Z"
    }
   },
   "cell_type": "code",
   "source": [
    "from imblearn.over_sampling import RandomOverSampler\n",
    "# Perform oversampling using RandomOverSampler\n",
    "ros = RandomOverSampler()\n",
    "X_train_tfidf_res, y_train_res = ros.fit_resample(X_train_tfidf, y_train)\n",
    "\n",
    "# Visualize class distribution after oversampling\n",
    "plt.subplot(1, 2, 2)\n",
    "sns.countplot(x=y_train_res)\n",
    "plt.title('Class distribution after oversampling')\n",
    "plt.show()\n",
    "print('Shape of training data after oversampling:', X_train_tfidf_res.shape)\n"
   ],
   "id": "47f162d3aed0d0dd",
   "outputs": [
    {
     "data": {
      "text/plain": [
       "<Figure size 640x480 with 1 Axes>"
      ],
      "image/png": "[encoded data removed]"
     },
     "metadata": {},
     "output_type": "display_data"
    },
    {
     "name": "stdout",
     "output_type": "stream",
     "text": [
      "Shape of training data after oversampling: (3210, 4933)\n"
     ]
    }
   ],
   "execution_count": 18
  },
  {
   "metadata": {},
   "cell_type": "code",
   "outputs": [],
   "execution_count": null,
   "source": "### Traini",
   "id": "a1fc8b32aab11ff0"
  }
 ],
 "metadata": {
  "kernelspec": {
   "display_name": "Python 3",
   "language": "python",
   "name": "python3"
  },
  "language_info": {
   "codemirror_mode": {
    "name": "ipython",
    "version": 2
   },
   "file_extension": ".py",
   "mimetype": "text/x-python",
   "name": "python",
   "nbconvert_exporter": "python",
   "pygments_lexer": "ipython2",
   "version": "2.7.6"
  }
 },
 "nbformat": 4,
 "nbformat_minor": 5
}
