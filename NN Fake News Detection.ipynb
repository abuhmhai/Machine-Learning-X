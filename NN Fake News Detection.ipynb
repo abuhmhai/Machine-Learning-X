{
 "cells": [
  {
   "cell_type": "code",
   "id": "initial_id",
   "metadata": {
    "collapsed": true
   },
   "source": [
    "import numpy as np\n",
    "import matplotlib.pyplot as plt\n",
    "from sklearn.model_selection import train_test_split\n",
    "import pandas as pd\n",
    "from sklearn.feature_extraction.text import TfidfVectorizer\n",
    "from sklearn.metrics import accuracy_score, roc_curve, auc, confusion_matrix, classification_report\n",
    "from sklearn.linear_model import LogisticRegression\n",
    "from sklearn.naive_bayes import MultinomialNB\n",
    "from sklearn.svm import SVC\n",
    "from sklearn.ensemble import RandomForestClassifier\n",
    "from tensorflow.keras.models import Sequential\n",
    "from tensorflow.keras.layers import Dense, Dropout\n",
    "from tensorflow.keras.callbacks import History\n",
    "from tensorflow.keras.optimizers import Adam\n"
   ],
   "outputs": [],
   "execution_count": null
  },
  {
   "metadata": {},
   "cell_type": "markdown",
   "source": "### Load the data",
   "id": "1a9d5dbbc79371fb"
  },
  {
   "metadata": {},
   "cell_type": "code",
   "source": [
    "fake_news=pd.read_csv(\"ML KNN Overview Fake.txt\", header=None)\n",
    "true_news=pd.read_csv(\"ML KNN Overview Real.txt\", header=None)"
   ],
   "id": "ca3b81c5e53c124d",
   "outputs": [],
   "execution_count": null
  },
  {
   "metadata": {},
   "cell_type": "code",
   "source": "fake_news",
   "id": "dbdc9012f1592d8c",
   "outputs": [],
   "execution_count": null
  },
  {
   "metadata": {},
   "cell_type": "markdown",
   "source": "## Set the columns name 'text'",
   "id": "553d3538cd83c3ed"
  },
  {
   "metadata": {},
   "cell_type": "code",
   "source": [
    "fake_news.columns=['text']\n",
    "true_news.columns=['text']"
   ],
   "id": "d5b4e9b6ab2466f4",
   "outputs": [],
   "execution_count": null
  },
  {
   "metadata": {},
   "cell_type": "code",
   "source": [
    "true_news['label']=1\n",
    "fake_news['label']=0"
   ],
   "id": "e4fb9e70d8c4c0f9",
   "outputs": [],
   "execution_count": null
  },
  {
   "metadata": {},
   "cell_type": "markdown",
   "source": "## Combine the dataset",
   "id": "4cbef26dabcd027"
  },
  {
   "metadata": {},
   "cell_type": "code",
   "source": "news_df=pd.concat([fake_news,true_news])",
   "id": "3961e34d18cadbc4",
   "outputs": [],
   "execution_count": null
  },
  {
   "metadata": {},
   "cell_type": "code",
   "source": [
    "# Shuffle the dataset\n",
    "news_df = news_df.sample(frac=1).reset_index(drop=True)"
   ],
   "id": "b3f7bbc5fedc66dc",
   "outputs": [],
   "execution_count": null
  },
  {
   "metadata": {},
   "cell_type": "code",
   "source": [
    "\n",
    "# Preprocessing\n",
    "def preprocess_text(text):\n",
    "    # Lowercase\n",
    "    text = text.lower()\n",
    "    # Remove punctuation and numbers\n",
    "    text = ''.join([char for char in text if char.isalpha() or char.isspace()])\n",
    "    return text\n",
    "\n",
    "news_df['text'] = news_df['text'].apply(preprocess_text)"
   ],
   "id": "bd0fb78483882692",
   "outputs": [],
   "execution_count": null
  },
  {
   "metadata": {},
   "cell_type": "markdown",
   "source": "## Spliting the data",
   "id": "2c2f8fe185814551"
  },
  {
   "metadata": {},
   "cell_type": "code",
   "source": [
    "# Splitting the data\n",
    "X_train, X_test, y_train, y_test = train_test_split(news_df['text'], news_df['label'], test_size=0.2, random_state=42)"
   ],
   "id": "68a384d70f0a9e13",
   "outputs": [],
   "execution_count": null
  },
  {
   "metadata": {},
   "cell_type": "markdown",
   "source": "## Vectorization",
   "id": "f4f1550a4e25c9"
  },
  {
   "metadata": {},
   "cell_type": "code",
   "source": [
    "vectorizer= TfidfVectorizer(max_features=500)\n",
    "X_train_tfidf = vectorizer.fit_transform(X_train)\n",
    "X_test_tfidf = vectorizer.transform(X_test)"
   ],
   "id": "113f79c7310275d7",
   "outputs": [],
   "execution_count": null
  },
  {
   "metadata": {},
   "cell_type": "markdown",
   "source": "# Define function to plot training history\n",
   "id": "a36561c1cd6f46ac"
  },
  {
   "metadata": {},
   "cell_type": "code",
   "source": [
    "def plot_history(history):\n",
    "    plt.figure(figsize=(12, 4))\n",
    "    plt.subplot(1, 2, 1)\n",
    "    plt.plot(history.history['loss'],label='Training loss')\n",
    "    plt.plot(history.history['val_loss'],label='Validation loss')\n",
    "    plt.legend()\n",
    "    plt.title('Loss over epochs')\n",
    "    \n",
    "    plt.subplot(1, 2, 2)\n",
    "    plt.plot(history.history['accuracy'],label='Training Accuracy')\n",
    "    plt.plot(history.history['val_accuracy'],label='Validation Accuracy')\n",
    "    plt.legend()\n",
    "    plt.title('Accuracy over epochs')\n",
    "    \n",
    "    plt.show()"
   ],
   "id": "838fa57441f49f4e",
   "outputs": [],
   "execution_count": null
  },
  {
   "metadata": {},
   "cell_type": "code",
   "source": [
    "# Function to plot ROC curve\n",
    "def plot_roc_curve(y_test,y_pred_prob):\n",
    "    fpr, tpr, _ = roc_curve(y_test,y_pred_prob)\n",
    "    roc_auc = auc(fpr, tpr)\n",
    "    \n",
    "    plt.figure()\n",
    "    plt.plot(fpr,tpr,color='darkorange',lw=2,label=f'ROC curve (area = {roc_auc:0.2f})')\n",
    "    plt.plot([0, 1], [0, 1], color='navy', lw=2, linestyle='--')\n",
    "    plt.xlim([0.0, 1.0])\n",
    "    plt.ylim([0.0, 1.05])\n",
    "    plt.xlabel('False Positive Rate')\n",
    "    plt.ylabel('True Positive Rate')\n",
    "    plt.title('Receiver Operating Characteristic')\n",
    "    plt.legend(loc=\"lower right\")\n",
    "    plt.show()"
   ],
   "id": "1ba3382672c55870",
   "outputs": [],
   "execution_count": null
  },
  {
   "metadata": {},
   "cell_type": "code",
   "source": [
    "# Function to evaluate models\n",
    "def evaluate_model(model, X_trai,y_train,X_test,y_test):\n",
    "    model.fit(X_trai,y_train)\n",
    "    y_pred=model.predict(X_test)\n",
    "    y_pred_prob=model.predict_proba(X_test)[:,1]\n",
    "    \n",
    "    accuracy=accuracy_score(y_test,y_pred)\n",
    "    cm=confusion_matrix(y_test,y_pred)\n",
    "    report = classification_report(y_test,y_pred)\n",
    "    \n",
    "    print(f'Accuracy: {accuracy}')\n",
    "    print('Confusion Matrix')\n",
    "    print(cm)\n",
    "    print(f'Report of Confusion Matrix')\n",
    "    print(report)\n",
    "    plot_roc_curve(y_test,y_pred_prob)"
   ],
   "id": "c414dc00130b45f2",
   "outputs": [],
   "execution_count": null
  },
  {
   "metadata": {},
   "cell_type": "markdown",
   "source": "## Logistic Regression ",
   "id": "6d85a2a392515aa7"
  },
  {
   "metadata": {},
   "cell_type": "code",
   "source": [
    "print(\"Logistic Regression\")\n",
    "logreg=LogisticRegression(max_iter=1000)\n",
    "evaluate_model(logreg,X_train_tfidf,y_train,X_test_tfidf,y_test)"
   ],
   "id": "73e77b667dc083c8",
   "outputs": [],
   "execution_count": null
  },
  {
   "metadata": {},
   "cell_type": "markdown",
   "source": "## Multinomial Naive Bayes",
   "id": "8b5ada72fecbc389"
  },
  {
   "metadata": {},
   "cell_type": "code",
   "source": [
    "print(\"Multinomial Naive Bayes\")\n",
    "mnb=MultinomialNB()\n",
    "evaluate_model(mnb,X_train_tfidf,y_train,X_test_tfidf,y_test)\n"
   ],
   "id": "50d8fd0a47d089d0",
   "outputs": [],
   "execution_count": null
  },
  {
   "metadata": {},
   "cell_type": "markdown",
   "source": "## Support Vector Machine",
   "id": "55904849c805781d"
  },
  {
   "metadata": {},
   "cell_type": "code",
   "source": [
    "print(\"Support Vector Machine\")\n",
    "svc=SVC(probability=True)\n",
    "evaluate_model(svc,X_train_tfidf,y_train,X_test_tfidf,y_test)"
   ],
   "id": "2328998fc46c59ba",
   "outputs": [],
   "execution_count": null
  },
  {
   "metadata": {},
   "cell_type": "markdown",
   "source": "## Random Forest",
   "id": "a1ca6c6e6b670b60"
  },
  {
   "metadata": {},
   "cell_type": "code",
   "source": [
    "print(\"Random Forest\")\n",
    "rf=RandomForestClassifier(n_estimators=100)\n",
    "evaluate_model(rf,X_train_tfidf,y_train,X_test_tfidf,y_test)"
   ],
   "id": "c58accdf69aae91a",
   "outputs": [],
   "execution_count": null
  },
  {
   "metadata": {},
   "cell_type": "markdown",
   "source": "## Neural Network",
   "id": "438b49bdae5f3099"
  },
  {
   "metadata": {},
   "cell_type": "code",
   "source": [
    "print(\"Neural Network\")\n",
    "def create_nn_model(input_dim):\n",
    "    model = Sequential()\n",
    "    model.add(Dense(512,input_dim=input_dim,activation='relu'))\n",
    "    model.add(Dropout(0.5))\n",
    "    model.add(Dense(256,activation='relu'))\n",
    "    model.add(Dropout(0.5))\n",
    "    model.add(Dense(1,activation='sigmoid'))\n",
    "    model.compile(loss='binary_crossentropy',optimizer=Adam(learning_rate=0.001),metrics=['accuracy'])\n",
    "    return model\n",
    "\n",
    "nn_model=create_nn_model(X_train_tfidf.shape[1])\n",
    "history=History()\n",
    "nn_model.fit(X_train_tfidf.toarray(),y_train,epochs=10, batch_size=128,validation_split=0.2,callbacks=[history])\n",
    "plot_history(history)\n",
    "\n",
    "# Evaluate Neural Network\n",
    "\n",
    "y_pred_prob_nn=nn_model.predict(X_test_tfidf.toarray()).ravel()\n",
    "y_pred_nn=(y_pred_prob_nn>0.5).astype(int)\n",
    "print(f'Accuracy: {accuracy_score(y_test,y_pred_nn)}')\n",
    "print(f'Confusion Matrix: {confusion_matrix(y_test,y_pred_nn)}')\n",
    "print(f'Classification Report: {classification_report(y_test,y_pred_nn)}')\n",
    "plot_roc_curve(y_test,y_pred_prob_nn)"
   ],
   "id": "6702e2343410fd81",
   "outputs": [],
   "execution_count": null
  },
  {
   "metadata": {},
   "cell_type": "code",
   "source": [
    "# Compare models\n",
    "results=pd.DataFrame(\n",
    "    {\n",
    "        'Model':['Logistic Regression','Multinomial Naive Bayes','Support Vector Machine','Random Forest','Neural Network'],\n",
    "        'Accuracy':[accuracy_score(y_test, logreg.predict(X_test_tfidf)),\n",
    "                    accuracy_score(y_test, mnb.predict(X_test_tfidf)),\n",
    "                    accuracy_score(y_test, svc.predict(X_test_tfidf)),\n",
    "                    accuracy_score(y_test, rf.predict(X_test_tfidf)),\n",
    "                    accuracy_score(y_test, y_pred_nn)]\n",
    "    }\n",
    ")\n",
    "print(results)"
   ],
   "id": "ae7d70b67c7fe6c",
   "outputs": [],
   "execution_count": null
  },
  {
   "metadata": {},
   "cell_type": "markdown",
   "source": [
    "Training a neural network model to detect fake news:\n",
    "\n",
    "### 1. Data loading and preprocessing\n",
    "\n",
    "- **Load data:** Collect a dataset containing true and false articles, and label them (e.g. \"true\" or \"false\").\n",
    "- **Data pre-processing:**\n",
    "- Convert text to lower case for uniformity.\n",
    "- Remove punctuation and numbers to clean data.\n",
    "\n",
    "### 2. Data decomposition and vectorization\n",
    "\n",
    "- **Split data:** Use function `train_test_split` to split data into training set and test set.\n",
    "- **Vectorization:** Use TF-IDF method to convert text data into digital features (digital vector).\n",
    "\n",
    "### 3. Identify and train the neural network model\n",
    "\n",
    "- **Determine model:**\n",
    "- Create a simple neural network model with two fully connected layers (Dense layers) and a Dropout layer to prevent overfitting.\n",
    "- **Model training:**\n",
    "- Use training data to train the model.\n",
    "- Record changes in loss and accuracy during training.\n",
    "\n",
    "### 4. Plot the training history\n",
    "\n",
    "- **Plot:** Use the `plot_history` function to plot the change in precision and loss for both the training and validation sets."
   ],
   "id": "254a0010e6a4407d"
  },
  {
   "metadata": {
    "ExecuteTime": {
     "end_time": "2024-06-26T15:10:32.291948Z",
     "start_time": "2024-06-26T15:10:32.263434Z"
    }
   },
   "cell_type": "code",
   "source": [
    "import pandas as pd\n",
    "import numpy as np\n",
    "import matplotlib.pyplot as plt\n",
    "from sklearn.model_selection import train_test_split\n",
    "from sklearn.feature_extraction.text import TfidfVectorizer\n",
    "from tensorflow.keras.models import Sequential\n",
    "from tensorflow.keras.layers import Dense, Dropout\n",
    "from tensorflow.keras.callbacks import History\n",
    "from tensorflow.keras.optimizers import Adam"
   ],
   "id": "58d20fd161dfa702",
   "outputs": [],
   "execution_count": 23
  },
  {
   "metadata": {
    "ExecuteTime": {
     "end_time": "2024-06-26T15:11:10.826955Z",
     "start_time": "2024-06-26T15:11:10.805064Z"
    }
   },
   "cell_type": "code",
   "source": [
    "fake_news=pd.read_csv('ML KNN Overview Fake.txt',header=None)\n",
    "true_news=pd.read_csv('ML KNN Overview Real.txt',header=None)"
   ],
   "id": "f6d4abcbe466bc78",
   "outputs": [],
   "execution_count": 24
  },
  {
   "metadata": {
    "ExecuteTime": {
     "end_time": "2024-06-26T15:12:09.351394Z",
     "start_time": "2024-06-26T15:12:09.334078Z"
    }
   },
   "cell_type": "code",
   "source": [
    "# Set col names\n",
    "fake_news.columns=['text']\n",
    "true_news.columns=['text']\n",
    "# Add labels\n",
    "true_news['label']=1\n",
    "fake_news['label']=0"
   ],
   "id": "d593e78e07b58473",
   "outputs": [],
   "execution_count": 26
  },
  {
   "metadata": {
    "ExecuteTime": {
     "end_time": "2024-06-26T15:12:21.231909Z",
     "start_time": "2024-06-26T15:12:21.215917Z"
    }
   },
   "cell_type": "code",
   "source": "news_df=pd.concat([true_news,fake_news])",
   "id": "ef45d910393e6971",
   "outputs": [],
   "execution_count": 28
  },
  {
   "metadata": {
    "ExecuteTime": {
     "end_time": "2024-06-26T15:12:26.709345Z",
     "start_time": "2024-06-26T15:12:26.686723Z"
    }
   },
   "cell_type": "code",
   "source": "news_df",
   "id": "ece3f4215593de45",
   "outputs": [
    {
     "data": {
      "text/plain": [
       "                                                   text  label\n",
       "0     donald trump do you remember the year since he...      1\n",
       "1     trump defends son over emails as moscow hits back      1\n",
       "2     donald trump strategist says media wont easily...      1\n",
       "3     anthony scaramucci who is donald trumps new co...      1\n",
       "4     donald trumps mobile phone use worries securit...      1\n",
       "...                                                 ...    ...\n",
       "1293  what happens if trump loses the election what ...      0\n",
       "1294  latest poll shows trump with 4 point lead in f...      0\n",
       "1295  breaking donald trump makes major clinton indi...      0\n",
       "1296  no hate crimes have not intensified since trum...      0\n",
       "1297                   who to blame for president trump      0\n",
       "\n",
       "[3266 rows x 2 columns]"
      ],
      "text/html": [
       "<div>\n",
       "<style scoped>\n",
       "    .dataframe tbody tr th:only-of-type {\n",
       "        vertical-align: middle;\n",
       "    }\n",
       "\n",
       "    .dataframe tbody tr th {\n",
       "        vertical-align: top;\n",
       "    }\n",
       "\n",
       "    .dataframe thead th {\n",
       "        text-align: right;\n",
       "    }\n",
       "</style>\n",
       "<table border=\"1\" class=\"dataframe\">\n",
       "  <thead>\n",
       "    <tr style=\"text-align: right;\">\n",
       "      <th></th>\n",
       "      <th>text</th>\n",
       "      <th>label</th>\n",
       "    </tr>\n",
       "  </thead>\n",
       "  <tbody>\n",
       "    <tr>\n",
       "      <th>0</th>\n",
       "      <td>donald trump do you remember the year since he...</td>\n",
       "      <td>1</td>\n",
       "    </tr>\n",
       "    <tr>\n",
       "      <th>1</th>\n",
       "      <td>trump defends son over emails as moscow hits back</td>\n",
       "      <td>1</td>\n",
       "    </tr>\n",
       "    <tr>\n",
       "      <th>2</th>\n",
       "      <td>donald trump strategist says media wont easily...</td>\n",
       "      <td>1</td>\n",
       "    </tr>\n",
       "    <tr>\n",
       "      <th>3</th>\n",
       "      <td>anthony scaramucci who is donald trumps new co...</td>\n",
       "      <td>1</td>\n",
       "    </tr>\n",
       "    <tr>\n",
       "      <th>4</th>\n",
       "      <td>donald trumps mobile phone use worries securit...</td>\n",
       "      <td>1</td>\n",
       "    </tr>\n",
       "    <tr>\n",
       "      <th>...</th>\n",
       "      <td>...</td>\n",
       "      <td>...</td>\n",
       "    </tr>\n",
       "    <tr>\n",
       "      <th>1293</th>\n",
       "      <td>what happens if trump loses the election what ...</td>\n",
       "      <td>0</td>\n",
       "    </tr>\n",
       "    <tr>\n",
       "      <th>1294</th>\n",
       "      <td>latest poll shows trump with 4 point lead in f...</td>\n",
       "      <td>0</td>\n",
       "    </tr>\n",
       "    <tr>\n",
       "      <th>1295</th>\n",
       "      <td>breaking donald trump makes major clinton indi...</td>\n",
       "      <td>0</td>\n",
       "    </tr>\n",
       "    <tr>\n",
       "      <th>1296</th>\n",
       "      <td>no hate crimes have not intensified since trum...</td>\n",
       "      <td>0</td>\n",
       "    </tr>\n",
       "    <tr>\n",
       "      <th>1297</th>\n",
       "      <td>who to blame for president trump</td>\n",
       "      <td>0</td>\n",
       "    </tr>\n",
       "  </tbody>\n",
       "</table>\n",
       "<p>3266 rows × 2 columns</p>\n",
       "</div>"
      ]
     },
     "execution_count": 29,
     "metadata": {},
     "output_type": "execute_result"
    }
   ],
   "execution_count": 29
  },
  {
   "metadata": {
    "ExecuteTime": {
     "end_time": "2024-06-26T15:13:22.219149Z",
     "start_time": "2024-06-26T15:13:22.204876Z"
    }
   },
   "cell_type": "code",
   "source": [
    "# Shuffle the dataset\n",
    "news_df=news_df.sample(frac=1).reset_index(drop=True)"
   ],
   "id": "9c4c726c0213ce0c",
   "outputs": [],
   "execution_count": 31
  },
  {
   "metadata": {
    "ExecuteTime": {
     "end_time": "2024-06-26T15:14:38.071990Z",
     "start_time": "2024-06-26T15:14:38.022484Z"
    }
   },
   "cell_type": "code",
   "source": [
    "# Preprocess text\n",
    "def preprocess_text(text):\n",
    "    # Lower text\n",
    "    text = text.lower()\n",
    "    text = ''.join([char for char in text if char.isalpha() or char.isspace()])\n",
    "    return text\n",
    "\n",
    "news_df['text'] = news_df['text'].apply(preprocess_text)\n",
    "\n",
    "# Split data\n",
    "X_train,X_test,y_train,y_test=train_test_split(news_df['text'],news_df['label'],test_size=0.2,random_state=42)"
   ],
   "id": "78fbf0b4c9a30e80",
   "outputs": [],
   "execution_count": 33
  },
  {
   "metadata": {
    "ExecuteTime": {
     "end_time": "2024-06-26T15:14:53.041571Z",
     "start_time": "2024-06-26T15:14:53.003038Z"
    }
   },
   "cell_type": "code",
   "source": [
    "# Vectorization\n",
    "vectorizer = TfidfVectorizer(max_features=5000)\n",
    "X_train_tfidf = vectorizer.fit_transform(X_train)\n",
    "X_test_tfidf = vectorizer.transform(X_test)"
   ],
   "id": "b1fb36f704bb1c95",
   "outputs": [],
   "execution_count": 35
  },
  {
   "metadata": {},
   "cell_type": "markdown",
   "source": "## Create a neural network model",
   "id": "acd52b9d9511456a"
  },
  {
   "metadata": {},
   "cell_type": "code",
   "outputs": [],
   "execution_count": null,
   "source": [
    "def create_nn_model(input_dim):\n",
    "    "
   ],
   "id": "18df07f41650da67"
  }
 ],
 "metadata": {
  "kernelspec": {
   "display_name": "Python 3",
   "language": "python",
   "name": "python3"
  },
  "language_info": {
   "codemirror_mode": {
    "name": "ipython",
    "version": 2
   },
   "file_extension": ".py",
   "mimetype": "text/x-python",
   "name": "python",
   "nbconvert_exporter": "python",
   "pygments_lexer": "ipython2",
   "version": "2.7.6"
  }
 },
 "nbformat": 4,
 "nbformat_minor": 5
}
