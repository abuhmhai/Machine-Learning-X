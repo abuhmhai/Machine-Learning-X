{
 "cells": [
  {
   "cell_type": "code",
   "id": "initial_id",
   "metadata": {
    "collapsed": true,
    "ExecuteTime": {
     "end_time": "2024-06-24T16:50:38.203380Z",
     "start_time": "2024-06-24T16:50:32.932013Z"
    }
   },
   "source": [
    "import numpy as np\n",
    "import matplotlib.pyplot as plt\n",
    "from sklearn.model_selection import train_test_split\n",
    "import pandas as pd\n",
    "from sklearn.feature_extraction.text import TfidfVectorizer\n",
    "from sklearn.metrics import accuracy_score, roc_curve, auc, confusion_matrix, classification_report\n",
    "from sklearn.linear_model import LogisticRegression\n",
    "from sklearn.naive_bayes import MultinomialNB\n",
    "from sklearn.svm import SVC\n",
    "from sklearn.ensemble import RandomForestClassifier\n",
    "from tensorflow.keras.models import Sequential\n",
    "from tensorflow.keras.layers import Dense, Dropout\n",
    "from tensorflow.keras.callbacks import History\n",
    "from tensorflow.keras.optimizers import Adam\n"
   ],
   "outputs": [
    {
     "name": "stderr",
     "output_type": "stream",
     "text": [
      "/Library/Python/3.9/site-packages/urllib3/__init__.py:35: NotOpenSSLWarning: urllib3 v2 only supports OpenSSL 1.1.1+, currently the 'ssl' module is compiled with 'LibreSSL 2.8.3'. See: https://github.com/urllib3/urllib3/issues/3020\n",
      "  warnings.warn(\n"
     ]
    }
   ],
   "execution_count": 2
  },
  {
   "metadata": {},
   "cell_type": "markdown",
   "source": "### Load the data",
   "id": "1a9d5dbbc79371fb"
  },
  {
   "metadata": {
    "ExecuteTime": {
     "end_time": "2024-06-24T16:51:40.744227Z",
     "start_time": "2024-06-24T16:51:40.710403Z"
    }
   },
   "cell_type": "code",
   "source": [
    "fake_news=pd.read_csv(\"ML KNN Overview Fake.txt\", header=None)\n",
    "true_news=pd.read_csv(\"ML KNN Overview Real.txt\", header=None)"
   ],
   "id": "ca3b81c5e53c124d",
   "outputs": [],
   "execution_count": 3
  },
  {
   "metadata": {
    "ExecuteTime": {
     "end_time": "2024-06-24T16:52:05.608580Z",
     "start_time": "2024-06-24T16:52:05.560703Z"
    }
   },
   "cell_type": "code",
   "source": "fake_news",
   "id": "dbdc9012f1592d8c",
   "outputs": [
    {
     "data": {
      "text/plain": [
       "                                                      0\n",
       "0              trump warns of vote flipping on machines\n",
       "1     this election is not about trump its about a g...\n",
       "2     more on trump populism and how it can be contr...\n",
       "3     trump bollywood ad meant to sway indian americ...\n",
       "4     dems could be up on charges for inciting trump...\n",
       "...                                                 ...\n",
       "1293  what happens if trump loses the election what ...\n",
       "1294  latest poll shows trump with 4 point lead in f...\n",
       "1295  breaking donald trump makes major clinton indi...\n",
       "1296  no hate crimes have not intensified since trum...\n",
       "1297                   who to blame for president trump\n",
       "\n",
       "[1298 rows x 1 columns]"
      ],
      "text/html": [
       "<div>\n",
       "<style scoped>\n",
       "    .dataframe tbody tr th:only-of-type {\n",
       "        vertical-align: middle;\n",
       "    }\n",
       "\n",
       "    .dataframe tbody tr th {\n",
       "        vertical-align: top;\n",
       "    }\n",
       "\n",
       "    .dataframe thead th {\n",
       "        text-align: right;\n",
       "    }\n",
       "</style>\n",
       "<table border=\"1\" class=\"dataframe\">\n",
       "  <thead>\n",
       "    <tr style=\"text-align: right;\">\n",
       "      <th></th>\n",
       "      <th>0</th>\n",
       "    </tr>\n",
       "  </thead>\n",
       "  <tbody>\n",
       "    <tr>\n",
       "      <th>0</th>\n",
       "      <td>trump warns of vote flipping on machines</td>\n",
       "    </tr>\n",
       "    <tr>\n",
       "      <th>1</th>\n",
       "      <td>this election is not about trump its about a g...</td>\n",
       "    </tr>\n",
       "    <tr>\n",
       "      <th>2</th>\n",
       "      <td>more on trump populism and how it can be contr...</td>\n",
       "    </tr>\n",
       "    <tr>\n",
       "      <th>3</th>\n",
       "      <td>trump bollywood ad meant to sway indian americ...</td>\n",
       "    </tr>\n",
       "    <tr>\n",
       "      <th>4</th>\n",
       "      <td>dems could be up on charges for inciting trump...</td>\n",
       "    </tr>\n",
       "    <tr>\n",
       "      <th>...</th>\n",
       "      <td>...</td>\n",
       "    </tr>\n",
       "    <tr>\n",
       "      <th>1293</th>\n",
       "      <td>what happens if trump loses the election what ...</td>\n",
       "    </tr>\n",
       "    <tr>\n",
       "      <th>1294</th>\n",
       "      <td>latest poll shows trump with 4 point lead in f...</td>\n",
       "    </tr>\n",
       "    <tr>\n",
       "      <th>1295</th>\n",
       "      <td>breaking donald trump makes major clinton indi...</td>\n",
       "    </tr>\n",
       "    <tr>\n",
       "      <th>1296</th>\n",
       "      <td>no hate crimes have not intensified since trum...</td>\n",
       "    </tr>\n",
       "    <tr>\n",
       "      <th>1297</th>\n",
       "      <td>who to blame for president trump</td>\n",
       "    </tr>\n",
       "  </tbody>\n",
       "</table>\n",
       "<p>1298 rows × 1 columns</p>\n",
       "</div>"
      ]
     },
     "execution_count": 4,
     "metadata": {},
     "output_type": "execute_result"
    }
   ],
   "execution_count": 4
  },
  {
   "metadata": {},
   "cell_type": "markdown",
   "source": "## Set the columns name 'text'",
   "id": "553d3538cd83c3ed"
  },
  {
   "metadata": {
    "ExecuteTime": {
     "end_time": "2024-06-24T16:53:05.527532Z",
     "start_time": "2024-06-24T16:53:05.514483Z"
    }
   },
   "cell_type": "code",
   "source": [
    "fake_news.columns=['text']\n",
    "true_news.columns=['text']"
   ],
   "id": "d5b4e9b6ab2466f4",
   "outputs": [],
   "execution_count": 5
  },
  {
   "metadata": {
    "ExecuteTime": {
     "end_time": "2024-06-24T16:53:30.263166Z",
     "start_time": "2024-06-24T16:53:30.240059Z"
    }
   },
   "cell_type": "code",
   "source": [
    "true_news['label']=1\n",
    "fake_news['label']=0"
   ],
   "id": "e4fb9e70d8c4c0f9",
   "outputs": [],
   "execution_count": 6
  },
  {
   "metadata": {},
   "cell_type": "markdown",
   "source": "## Combine the dataset",
   "id": "4cbef26dabcd027"
  },
  {
   "metadata": {
    "ExecuteTime": {
     "end_time": "2024-06-24T16:54:15.948948Z",
     "start_time": "2024-06-24T16:54:15.923229Z"
    }
   },
   "cell_type": "code",
   "source": "news_df=pd.concat([fake_news,true_news])",
   "id": "3961e34d18cadbc4",
   "outputs": [],
   "execution_count": 7
  },
  {
   "metadata": {
    "ExecuteTime": {
     "end_time": "2024-06-24T16:54:28.031666Z",
     "start_time": "2024-06-24T16:54:28.011387Z"
    }
   },
   "cell_type": "code",
   "source": [
    "# Shuffle the dataset\n",
    "news_df = news_df.sample(frac=1).reset_index(drop=True)"
   ],
   "id": "b3f7bbc5fedc66dc",
   "outputs": [],
   "execution_count": 8
  },
  {
   "metadata": {
    "ExecuteTime": {
     "end_time": "2024-06-24T16:54:55.442947Z",
     "start_time": "2024-06-24T16:54:55.404538Z"
    }
   },
   "cell_type": "code",
   "source": [
    "\n",
    "# Preprocessing\n",
    "def preprocess_text(text):\n",
    "    # Lowercase\n",
    "    text = text.lower()\n",
    "    # Remove punctuation and numbers\n",
    "    text = ''.join([char for char in text if char.isalpha() or char.isspace()])\n",
    "    return text\n",
    "\n",
    "news_df['text'] = news_df['text'].apply(preprocess_text)"
   ],
   "id": "bd0fb78483882692",
   "outputs": [],
   "execution_count": 9
  },
  {
   "metadata": {},
   "cell_type": "markdown",
   "source": "## Spliting the data",
   "id": "2c2f8fe185814551"
  },
  {
   "metadata": {
    "ExecuteTime": {
     "end_time": "2024-06-24T16:55:57.630090Z",
     "start_time": "2024-06-24T16:55:57.599940Z"
    }
   },
   "cell_type": "code",
   "source": [
    "# Splitting the data\n",
    "X_train, X_test, y_train, y_test = train_test_split(news_df['text'], news_df['label'], test_size=0.2, random_state=42)"
   ],
   "id": "68a384d70f0a9e13",
   "outputs": [],
   "execution_count": 10
  },
  {
   "metadata": {},
   "cell_type": "markdown",
   "source": "## Vectorization",
   "id": "f4f1550a4e25c9"
  },
  {
   "metadata": {
    "ExecuteTime": {
     "end_time": "2024-06-24T16:57:36.011304Z",
     "start_time": "2024-06-24T16:57:35.914634Z"
    }
   },
   "cell_type": "code",
   "source": [
    "vectorizer= TfidfVectorizer(max_features=500)\n",
    "X_train_tfidf = vectorizer.fit_transform(X_train)\n",
    "X_test_tfidf = vectorizer.transform(X_test)"
   ],
   "id": "113f79c7310275d7",
   "outputs": [],
   "execution_count": 11
  },
  {
   "metadata": {},
   "cell_type": "markdown",
   "source": "# Define function to plot training history\n",
   "id": "a36561c1cd6f46ac"
  },
  {
   "metadata": {
    "ExecuteTime": {
     "end_time": "2024-06-24T17:02:07.061783Z",
     "start_time": "2024-06-24T17:02:07.039146Z"
    }
   },
   "cell_type": "code",
   "source": [
    "def plot_history(history):\n",
    "    plt.figure(figsize=(12, 4))\n",
    "    plt.subplot(1, 2, 1)\n",
    "    plt.plot(history.history['loss'],label='Training loss')\n",
    "    plt.plot(history.history['val_loss'],label='Validation loss')\n",
    "    plt.legend()\n",
    "    plt.title('Loss over epochs')\n",
    "    \n",
    "    plt.subplot(1, 2, 2)\n",
    "    plt.plot(history.history['acc'],label='Training Accuracy')\n",
    "    plt.plot(history.history['val_acc'],label='Validation Accuracy')\n",
    "    plt.legend()\n",
    "    plt.title('Accuracy over epochs')\n",
    "    \n",
    "    plt.show()"
   ],
   "id": "838fa57441f49f4e",
   "outputs": [],
   "execution_count": 16
  },
  {
   "metadata": {
    "ExecuteTime": {
     "end_time": "2024-06-24T19:54:30.926497Z",
     "start_time": "2024-06-24T19:54:30.913596Z"
    }
   },
   "cell_type": "code",
   "source": [
    "# Function to plot ROC curve\n",
    "def plot_roc_curve(y_test,y_pred_prob):\n",
    "    fpr, tpr, _ = roc_curve(y_test,y_pred_prob)\n",
    "    roc_auc = auc(fpr, tpr)\n",
    "    \n",
    "    plt.figure()\n",
    "    plt.plot(fpr,tpr,color='darkorange',lw=2,label=f'ROC curve (area = {roc_auc:0.2f})')\n",
    "    plt.plot([0, 1], [0, 1], color='navy', lw=2, linestyle='--')\n",
    "    plt.xlim([0.0, 1.0])\n",
    "    plt.ylim([0.0, 1.05])\n",
    "    plt.xlabel('False Positive Rate')\n",
    "    plt.ylabel('True Positive Rate')\n",
    "    plt.title('Receiver Operating Characteristic')\n",
    "    plt.legend(loc=\"lower right\")\n",
    "    plt.show()"
   ],
   "id": "1ba3382672c55870",
   "outputs": [],
   "execution_count": 17
  },
  {
   "metadata": {
    "ExecuteTime": {
     "end_time": "2024-06-24T19:57:01.951780Z",
     "start_time": "2024-06-24T19:57:01.935959Z"
    }
   },
   "cell_type": "code",
   "source": [
    "# Function to evaluate models\n",
    "def evaluate_model(model, X_trai,y_train,X_test,y_test):\n",
    "    model.fit(X_trai,y_train)\n",
    "    y_pred=model.predict(X_test)\n",
    "    y_pred_prob=model.predict_proba(X_test)[:,1]\n",
    "    \n",
    "    accuracy=accuracy_score(y_test,y_pred)\n",
    "    cm=confusion_matrix(y_test,y_pred)\n",
    "    report = classification_report(y_test,y_pred)\n",
    "    \n",
    "    print(f'Accuracy: {accuracy}')\n",
    "    print('Confusion Matrix')\n",
    "    print(cm)\n",
    "    print(f'Report of Confusion Matrix')\n",
    "    print(report)\n",
    "    plot_roc_curve(y_test,y_pred_prob)"
   ],
   "id": "c414dc00130b45f2",
   "outputs": [],
   "execution_count": 18
  },
  {
   "metadata": {},
   "cell_type": "markdown",
   "source": "## Logistic Regression ",
   "id": "6d85a2a392515aa7"
  },
  {
   "metadata": {
    "ExecuteTime": {
     "end_time": "2024-06-24T19:58:09.302226Z",
     "start_time": "2024-06-24T19:58:08.801567Z"
    }
   },
   "cell_type": "code",
   "source": [
    "print(\"Logistic Regression\")\n",
    "logreg=LogisticRegression(max_iter=1000)\n",
    "evaluate_model(logreg,X_train_tfidf,y_train,X_test_tfidf,y_test)"
   ],
   "id": "73e77b667dc083c8",
   "outputs": [
    {
     "name": "stdout",
     "output_type": "stream",
     "text": [
      "Logistic Regression\n",
      "Accuracy: 0.8119266055045872\n",
      "Confusion Matrix\n",
      "[[198  74]\n",
      " [ 49 333]]\n",
      "Report of Confusion Matrix\n",
      "              precision    recall  f1-score   support\n",
      "\n",
      "           0       0.80      0.73      0.76       272\n",
      "           1       0.82      0.87      0.84       382\n",
      "\n",
      "    accuracy                           0.81       654\n",
      "   macro avg       0.81      0.80      0.80       654\n",
      "weighted avg       0.81      0.81      0.81       654\n",
      "\n"
     ]
    },
    {
     "data": {
      "text/plain": [
       "<Figure size 640x480 with 1 Axes>"
      ],
      "image/png": "[encoded data removed]"
     },
     "metadata": {},
     "output_type": "display_data"
    }
   ],
   "execution_count": 19
  },
  {
   "metadata": {},
   "cell_type": "markdown",
   "source": "## Multinomial Naive Bayes",
   "id": "8b5ada72fecbc389"
  },
  {
   "metadata": {
    "ExecuteTime": {
     "end_time": "2024-06-24T20:00:08.978672Z",
     "start_time": "2024-06-24T20:00:08.775799Z"
    }
   },
   "cell_type": "code",
   "source": [
    "print(\"Multinomial Naive Bayes\")\n",
    "mnb=MultinomialNB()\n",
    "evaluate_model(mnb,X_train_tfidf,y_train,X_test_tfidf,y_test)\n"
   ],
   "id": "50d8fd0a47d089d0",
   "outputs": [
    {
     "name": "stdout",
     "output_type": "stream",
     "text": [
      "Multinomial Naive Bayes\n",
      "Accuracy: 0.7996941896024465\n",
      "Confusion Matrix\n",
      "[[183  89]\n",
      " [ 42 340]]\n",
      "Report of Confusion Matrix\n",
      "              precision    recall  f1-score   support\n",
      "\n",
      "           0       0.81      0.67      0.74       272\n",
      "           1       0.79      0.89      0.84       382\n",
      "\n",
      "    accuracy                           0.80       654\n",
      "   macro avg       0.80      0.78      0.79       654\n",
      "weighted avg       0.80      0.80      0.80       654\n",
      "\n"
     ]
    },
    {
     "data": {
      "text/plain": [
       "<Figure size 640x480 with 1 Axes>"
      ],
      "image/png": "[encoded data removed]"
     },
     "metadata": {},
     "output_type": "display_data"
    }
   ],
   "execution_count": 20
  },
  {
   "metadata": {},
   "cell_type": "code",
   "outputs": [],
   "execution_count": null,
   "source": "##",
   "id": "3bbc48edcbfe49df"
  }
 ],
 "metadata": {
  "kernelspec": {
   "display_name": "Python 3",
   "language": "python",
   "name": "python3"
  },
  "language_info": {
   "codemirror_mode": {
    "name": "ipython",
    "version": 2
   },
   "file_extension": ".py",
   "mimetype": "text/x-python",
   "name": "python",
   "nbconvert_exporter": "python",
   "pygments_lexer": "ipython2",
   "version": "2.7.6"
  }
 },
 "nbformat": 4,
 "nbformat_minor": 5
}
