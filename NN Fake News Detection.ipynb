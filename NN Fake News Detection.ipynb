{
 "cells": [
  {
   "cell_type": "code",
   "id": "initial_id",
   "metadata": {
    "collapsed": true,
    "ExecuteTime": {
     "end_time": "2024-06-24T16:50:38.203380Z",
     "start_time": "2024-06-24T16:50:32.932013Z"
    }
   },
   "source": [
    "import numpy as np\n",
    "import matplotlib.pyplot as plt\n",
    "from sklearn.model_selection import train_test_split\n",
    "import pandas as pd\n",
    "from sklearn.feature_extraction.text import TfidfVectorizer\n",
    "from sklearn.metrics import accuracy_score, roc_curve, auc, confusion_matrix, classification_report\n",
    "from sklearn.linear_model import LogisticRegression\n",
    "from sklearn.naive_bayes import MultinomialNB\n",
    "from sklearn.svm import SVC\n",
    "from sklearn.ensemble import RandomForestClassifier\n",
    "from tensorflow.keras.models import Sequential\n",
    "from tensorflow.keras.layers import Dense, Dropout\n",
    "from tensorflow.keras.callbacks import History\n",
    "from tensorflow.keras.optimizers import Adam\n"
   ],
   "outputs": [
    {
     "name": "stderr",
     "output_type": "stream",
     "text": [
      "/Library/Python/3.9/site-packages/urllib3/__init__.py:35: NotOpenSSLWarning: urllib3 v2 only supports OpenSSL 1.1.1+, currently the 'ssl' module is compiled with 'LibreSSL 2.8.3'. See: https://github.com/urllib3/urllib3/issues/3020\n",
      "  warnings.warn(\n"
     ]
    }
   ],
   "execution_count": 2
  },
  {
   "metadata": {},
   "cell_type": "markdown",
   "source": "### Load the data",
   "id": "1a9d5dbbc79371fb"
  },
  {
   "metadata": {
    "ExecuteTime": {
     "end_time": "2024-06-24T16:51:40.744227Z",
     "start_time": "2024-06-24T16:51:40.710403Z"
    }
   },
   "cell_type": "code",
   "source": [
    "fake_news=pd.read_csv(\"ML KNN Overview Fake.txt\", header=None)\n",
    "true_news=pd.read_csv(\"ML KNN Overview Real.txt\", header=None)"
   ],
   "id": "ca3b81c5e53c124d",
   "outputs": [],
   "execution_count": 3
  },
  {
   "metadata": {
    "ExecuteTime": {
     "end_time": "2024-06-24T16:52:05.608580Z",
     "start_time": "2024-06-24T16:52:05.560703Z"
    }
   },
   "cell_type": "code",
   "source": "fake_news",
   "id": "dbdc9012f1592d8c",
   "outputs": [
    {
     "data": {
      "text/plain": [
       "                                                      0\n",
       "0              trump warns of vote flipping on machines\n",
       "1     this election is not about trump its about a g...\n",
       "2     more on trump populism and how it can be contr...\n",
       "3     trump bollywood ad meant to sway indian americ...\n",
       "4     dems could be up on charges for inciting trump...\n",
       "...                                                 ...\n",
       "1293  what happens if trump loses the election what ...\n",
       "1294  latest poll shows trump with 4 point lead in f...\n",
       "1295  breaking donald trump makes major clinton indi...\n",
       "1296  no hate crimes have not intensified since trum...\n",
       "1297                   who to blame for president trump\n",
       "\n",
       "[1298 rows x 1 columns]"
      ],
      "text/html": [
       "<div>\n",
       "<style scoped>\n",
       "    .dataframe tbody tr th:only-of-type {\n",
       "        vertical-align: middle;\n",
       "    }\n",
       "\n",
       "    .dataframe tbody tr th {\n",
       "        vertical-align: top;\n",
       "    }\n",
       "\n",
       "    .dataframe thead th {\n",
       "        text-align: right;\n",
       "    }\n",
       "</style>\n",
       "<table border=\"1\" class=\"dataframe\">\n",
       "  <thead>\n",
       "    <tr style=\"text-align: right;\">\n",
       "      <th></th>\n",
       "      <th>0</th>\n",
       "    </tr>\n",
       "  </thead>\n",
       "  <tbody>\n",
       "    <tr>\n",
       "      <th>0</th>\n",
       "      <td>trump warns of vote flipping on machines</td>\n",
       "    </tr>\n",
       "    <tr>\n",
       "      <th>1</th>\n",
       "      <td>this election is not about trump its about a g...</td>\n",
       "    </tr>\n",
       "    <tr>\n",
       "      <th>2</th>\n",
       "      <td>more on trump populism and how it can be contr...</td>\n",
       "    </tr>\n",
       "    <tr>\n",
       "      <th>3</th>\n",
       "      <td>trump bollywood ad meant to sway indian americ...</td>\n",
       "    </tr>\n",
       "    <tr>\n",
       "      <th>4</th>\n",
       "      <td>dems could be up on charges for inciting trump...</td>\n",
       "    </tr>\n",
       "    <tr>\n",
       "      <th>...</th>\n",
       "      <td>...</td>\n",
       "    </tr>\n",
       "    <tr>\n",
       "      <th>1293</th>\n",
       "      <td>what happens if trump loses the election what ...</td>\n",
       "    </tr>\n",
       "    <tr>\n",
       "      <th>1294</th>\n",
       "      <td>latest poll shows trump with 4 point lead in f...</td>\n",
       "    </tr>\n",
       "    <tr>\n",
       "      <th>1295</th>\n",
       "      <td>breaking donald trump makes major clinton indi...</td>\n",
       "    </tr>\n",
       "    <tr>\n",
       "      <th>1296</th>\n",
       "      <td>no hate crimes have not intensified since trum...</td>\n",
       "    </tr>\n",
       "    <tr>\n",
       "      <th>1297</th>\n",
       "      <td>who to blame for president trump</td>\n",
       "    </tr>\n",
       "  </tbody>\n",
       "</table>\n",
       "<p>1298 rows × 1 columns</p>\n",
       "</div>"
      ]
     },
     "execution_count": 4,
     "metadata": {},
     "output_type": "execute_result"
    }
   ],
   "execution_count": 4
  },
  {
   "metadata": {},
   "cell_type": "markdown",
   "source": "## Set the columns name 'text'",
   "id": "553d3538cd83c3ed"
  },
  {
   "metadata": {
    "ExecuteTime": {
     "end_time": "2024-06-24T16:53:05.527532Z",
     "start_time": "2024-06-24T16:53:05.514483Z"
    }
   },
   "cell_type": "code",
   "source": [
    "fake_news.columns=['text']\n",
    "true_news.columns=['text']"
   ],
   "id": "d5b4e9b6ab2466f4",
   "outputs": [],
   "execution_count": 5
  },
  {
   "metadata": {
    "ExecuteTime": {
     "end_time": "2024-06-24T16:53:30.263166Z",
     "start_time": "2024-06-24T16:53:30.240059Z"
    }
   },
   "cell_type": "code",
   "source": [
    "true_news['label']=1\n",
    "fake_news['label']=0"
   ],
   "id": "e4fb9e70d8c4c0f9",
   "outputs": [],
   "execution_count": 6
  },
  {
   "metadata": {},
   "cell_type": "markdown",
   "source": "## Combine the dataset",
   "id": "4cbef26dabcd027"
  },
  {
   "metadata": {
    "ExecuteTime": {
     "end_time": "2024-06-24T16:54:15.948948Z",
     "start_time": "2024-06-24T16:54:15.923229Z"
    }
   },
   "cell_type": "code",
   "source": "news_df=pd.concat([fake_news,true_news])",
   "id": "3961e34d18cadbc4",
   "outputs": [],
   "execution_count": 7
  },
  {
   "metadata": {
    "ExecuteTime": {
     "end_time": "2024-06-24T16:54:28.031666Z",
     "start_time": "2024-06-24T16:54:28.011387Z"
    }
   },
   "cell_type": "code",
   "source": [
    "# Shuffle the dataset\n",
    "news_df = news_df.sample(frac=1).reset_index(drop=True)"
   ],
   "id": "b3f7bbc5fedc66dc",
   "outputs": [],
   "execution_count": 8
  },
  {
   "metadata": {},
   "cell_type": "code",
   "outputs": [],
   "execution_count": null,
   "source": "",
   "id": "bd0fb78483882692"
  }
 ],
 "metadata": {
  "kernelspec": {
   "display_name": "Python 3",
   "language": "python",
   "name": "python3"
  },
  "language_info": {
   "codemirror_mode": {
    "name": "ipython",
    "version": 2
   },
   "file_extension": ".py",
   "mimetype": "text/x-python",
   "name": "python",
   "nbconvert_exporter": "python",
   "pygments_lexer": "ipython2",
   "version": "2.7.6"
  }
 },
 "nbformat": 4,
 "nbformat_minor": 5
}
